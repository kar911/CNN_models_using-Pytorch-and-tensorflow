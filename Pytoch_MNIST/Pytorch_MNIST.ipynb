{
  "nbformat": 4,
  "nbformat_minor": 0,
  "metadata": {
    "colab": {
      "provenance": [],
      "gpuType": "T4"
    },
    "kernelspec": {
      "name": "python3",
      "display_name": "Python 3"
    },
    "language_info": {
      "name": "python"
    },
    "accelerator": "GPU"
  },
  "cells": [
    {
      "cell_type": "code",
      "execution_count": 1,
      "metadata": {
        "id": "PrAbAUJJTeXO"
      },
      "outputs": [],
      "source": [
        "import torch\n",
        "from torch import nn,save,load\n",
        "import torch.nn.functional as f\n",
        "from torch.optim import SGD,Adam\n",
        "from torch.utils.data import DataLoader\n",
        "from torchvision import datasets\n",
        "from torchvision.transforms import ToTensor"
      ]
    },
    {
      "cell_type": "code",
      "source": [
        "tr=datasets.MNIST(root='data',download=True,train=True,transform=ToTensor())\n",
        "dataset=DataLoader(tr,32) # batch size 32\n",
        "\n",
        "class Imageclass(nn.Module):\n",
        "  def __init__(self):\n",
        "    super().__init__()\n",
        "    self.model = nn.Sequential(\n",
        "        nn.Conv2d(1,32,(3,3)),\n",
        "        nn.ReLU(),\n",
        "        nn.Conv2d(32,64,(3,3)),\n",
        "        nn.ReLU(),\n",
        "        nn.Conv2d(64,64,(3,3)),\n",
        "        nn.ReLU(),\n",
        "        nn.Flatten(),\n",
        "        nn.Linear(64*(28-6)*(28-6),10)\n",
        "    )\n",
        "\n",
        "  def forward(self,x):\n",
        "    return self.model(x)\n",
        "\n",
        "clf=Imageclass().to('cuda')\n",
        "opt=Adam(clf.parameters(),lr=1e-3)\n",
        "loss_fn=nn.CrossEntropyLoss()\n",
        "\n",
        "if __name__ == '__main__':\n",
        "  for epoch in range(20):\n",
        "    for batch in dataset:\n",
        "      X,y=batch\n",
        "      X,y=X.to('cuda'),y.to('cuda')\n",
        "      yhat=clf(X)\n",
        "      loss=loss_fn(yhat,y)\n",
        "\n",
        "      opt.zero_grad()\n",
        "      loss.backward()\n",
        "      opt.step()\n",
        "\n",
        "    print(f'epoch #{epoch} loss -> {loss.item()}')\n",
        "\n"
      ],
      "metadata": {
        "colab": {
          "base_uri": "https://localhost:8080/"
        },
        "id": "e5BRVixATqZE",
        "outputId": "2309c570-3b7f-48bc-f46f-bc0a2cb463da"
      },
      "execution_count": 5,
      "outputs": [
        {
          "output_type": "stream",
          "name": "stdout",
          "text": [
            "epoch #0 loss -> 0.032445646822452545\n",
            "epoch #1 loss -> 0.0037373702507466078\n",
            "epoch #2 loss -> 0.009773761965334415\n",
            "epoch #3 loss -> 4.5782613597111776e-05\n",
            "epoch #4 loss -> 0.0015909241046756506\n",
            "epoch #5 loss -> 0.00010299100540578365\n",
            "epoch #6 loss -> 1.0094017852679826e-05\n",
            "epoch #7 loss -> 0.029039189219474792\n",
            "epoch #8 loss -> 2.4959362576737476e-07\n",
            "epoch #9 loss -> 8.94068392653935e-08\n",
            "epoch #10 loss -> 2.451157115501701e-06\n",
            "epoch #11 loss -> 1.4901159417490817e-08\n",
            "epoch #12 loss -> 2.6449492906976957e-07\n",
            "epoch #13 loss -> 5.960459503739912e-08\n",
            "epoch #14 loss -> 2.495937678759219e-07\n",
            "epoch #15 loss -> 2.6077021431092362e-08\n",
            "epoch #16 loss -> 0.0\n",
            "epoch #17 loss -> 2.9802308176840597e-08\n",
            "epoch #18 loss -> 4.917357045997051e-07\n",
            "epoch #19 loss -> 0.0\n"
          ]
        }
      ]
    },
    {
      "cell_type": "code",
      "source": [
        "with open('model_stat.pt','wb') as f:\n",
        "  save(clf.state_dict(),f)"
      ],
      "metadata": {
        "id": "HwTDnr4oacN2"
      },
      "execution_count": 7,
      "outputs": []
    },
    {
      "cell_type": "code",
      "source": [
        "import torch\n",
        "from PIL import Image"
      ],
      "metadata": {
        "id": "cPo5lkmKdZ-3"
      },
      "execution_count": 9,
      "outputs": []
    },
    {
      "cell_type": "code",
      "source": [
        "!ls"
      ],
      "metadata": {
        "colab": {
          "base_uri": "https://localhost:8080/"
        },
        "id": "eSVR3GBEeulY",
        "outputId": "bd62170c-f6fe-4a39-bbc1-2cea6ab39818"
      },
      "execution_count": 13,
      "outputs": [
        {
          "output_type": "stream",
          "name": "stdout",
          "text": [
            "data  img_1.jpg  img_2.jpg  img_3.jpg  model_stat.pt  sample_data\n"
          ]
        }
      ]
    },
    {
      "cell_type": "code",
      "source": [
        "with open('model_stat.pt','rb') as f:\n",
        "  clf.load_state_dict(load(f))\n",
        "  img =Image.open('img_1.jpg')\n",
        "  img_ten=ToTensor()(img).unsqueeze(0).to('cuda')\n",
        "  print(torch.argmax(clf(img_ten)))"
      ],
      "metadata": {
        "colab": {
          "base_uri": "https://localhost:8080/"
        },
        "id": "oArpr3RWcvOD",
        "outputId": "cb752caf-f7b5-4bc2-d489-3e3307739937"
      },
      "execution_count": 14,
      "outputs": [
        {
          "output_type": "stream",
          "name": "stdout",
          "text": [
            "tensor(2, device='cuda:0')\n"
          ]
        }
      ]
    },
    {
      "cell_type": "code",
      "source": [
        "with open('model_stat.pt','rb') as f:\n",
        "  clf.load_state_dict(load(f))\n",
        "  img =Image.open('img_3.jpg')\n",
        "  img_ten=ToTensor()(img).unsqueeze(0).to('cuda')\n",
        "  print(torch.argmax(clf(img_ten)))"
      ],
      "metadata": {
        "colab": {
          "base_uri": "https://localhost:8080/"
        },
        "id": "NoIv4geSeIkU",
        "outputId": "b464afac-edd8-4179-86a9-9c8ffecfda28"
      },
      "execution_count": 15,
      "outputs": [
        {
          "output_type": "stream",
          "name": "stdout",
          "text": [
            "tensor(9, device='cuda:0')\n"
          ]
        }
      ]
    },
    {
      "cell_type": "code",
      "source": [
        "with open('model_stat.pt','rb') as f:\n",
        "  clf.load_state_dict(load(f))\n",
        "  img =Image.open('img_2.jpg')\n",
        "  img_ten=ToTensor()(img).unsqueeze(0).to('cuda')\n",
        "  print(torch.argmax(clf(img_ten)))"
      ],
      "metadata": {
        "colab": {
          "base_uri": "https://localhost:8080/"
        },
        "id": "A-uvWpm3e8IF",
        "outputId": "0dc9156d-5bcc-4b4d-db44-91791dfa6f03"
      },
      "execution_count": 16,
      "outputs": [
        {
          "output_type": "stream",
          "name": "stdout",
          "text": [
            "tensor(0, device='cuda:0')\n"
          ]
        }
      ]
    },
    {
      "cell_type": "code",
      "source": [],
      "metadata": {
        "id": "yoF88Nige-iY"
      },
      "execution_count": null,
      "outputs": []
    }
  ]
}